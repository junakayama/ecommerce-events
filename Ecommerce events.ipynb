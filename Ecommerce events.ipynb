{
 "cells": [
  {
   "cell_type": "code",
   "execution_count": 59,
   "metadata": {},
   "outputs": [],
   "source": [
    "import pandas as pd\n",
    "%matplotlib inline"
   ]
  },
  {
   "cell_type": "code",
   "execution_count": 2,
   "metadata": {},
   "outputs": [],
   "source": [
    "df = pd.read_json('ecommerce-events.ndjson', lines=True)"
   ]
  },
  {
   "cell_type": "code",
   "execution_count": 3,
   "metadata": {
    "scrolled": false
   },
   "outputs": [
    {
     "data": {
      "text/html": [
       "<div>\n",
       "<style scoped>\n",
       "    .dataframe tbody tr th:only-of-type {\n",
       "        vertical-align: middle;\n",
       "    }\n",
       "\n",
       "    .dataframe tbody tr th {\n",
       "        vertical-align: top;\n",
       "    }\n",
       "\n",
       "    .dataframe thead th {\n",
       "        text-align: right;\n",
       "    }\n",
       "</style>\n",
       "<table border=\"1\" class=\"dataframe\">\n",
       "  <thead>\n",
       "    <tr style=\"text-align: right;\">\n",
       "      <th></th>\n",
       "      <th>browserType</th>\n",
       "      <th>browserVersion</th>\n",
       "      <th>category</th>\n",
       "      <th>date</th>\n",
       "      <th>deviceType</th>\n",
       "      <th>eventType</th>\n",
       "      <th>order</th>\n",
       "      <th>orderItems</th>\n",
       "      <th>osType</th>\n",
       "      <th>osVersion</th>\n",
       "      <th>...</th>\n",
       "      <th>referrer</th>\n",
       "      <th>referrerType</th>\n",
       "      <th>searchItems</th>\n",
       "      <th>status</th>\n",
       "      <th>tags</th>\n",
       "      <th>url</th>\n",
       "      <th>utm_campaign</th>\n",
       "      <th>utm_medium</th>\n",
       "      <th>utm_source</th>\n",
       "      <th>visitor</th>\n",
       "    </tr>\n",
       "  </thead>\n",
       "  <tbody>\n",
       "    <tr>\n",
       "      <th>0</th>\n",
       "      <td>Firefox</td>\n",
       "      <td>52.0.0</td>\n",
       "      <td>271|697</td>\n",
       "      <td>2017-06-03 00:07:04</td>\n",
       "      <td>desktop</td>\n",
       "      <td>page</td>\n",
       "      <td>NaN</td>\n",
       "      <td>NaN</td>\n",
       "      <td>Windows</td>\n",
       "      <td>None</td>\n",
       "      <td>...</td>\n",
       "      <td>5af64abc7cb3e5a8be6d22c97331b9afcaad91c5</td>\n",
       "      <td>social</td>\n",
       "      <td>NaN</td>\n",
       "      <td>NaN</td>\n",
       "      <td>NaN</td>\n",
       "      <td>ccde1b63b365cad611f2d1a6fca8a15b0e71d6ef</td>\n",
       "      <td>Campaign_2</td>\n",
       "      <td>Medium_2</td>\n",
       "      <td>Partner_1</td>\n",
       "      <td>89206c00-3f26-11e7-9978-fdec7f5865bc</td>\n",
       "    </tr>\n",
       "  </tbody>\n",
       "</table>\n",
       "<p>1 rows × 24 columns</p>\n",
       "</div>"
      ],
      "text/plain": [
       "  browserType browserVersion category                date deviceType  \\\n",
       "0     Firefox         52.0.0  271|697 2017-06-03 00:07:04    desktop   \n",
       "\n",
       "  eventType  order orderItems   osType osVersion  \\\n",
       "0      page    NaN        NaN  Windows      None   \n",
       "\n",
       "                   ...                   \\\n",
       "0                  ...                    \n",
       "\n",
       "                                   referrer  referrerType  searchItems status  \\\n",
       "0  5af64abc7cb3e5a8be6d22c97331b9afcaad91c5        social          NaN    NaN   \n",
       "\n",
       "  tags                                       url utm_campaign utm_medium  \\\n",
       "0  NaN  ccde1b63b365cad611f2d1a6fca8a15b0e71d6ef   Campaign_2   Medium_2   \n",
       "\n",
       "  utm_source                               visitor  \n",
       "0  Partner_1  89206c00-3f26-11e7-9978-fdec7f5865bc  \n",
       "\n",
       "[1 rows x 24 columns]"
      ]
     },
     "execution_count": 3,
     "metadata": {},
     "output_type": "execute_result"
    }
   ],
   "source": [
    "df.head(1)"
   ]
  },
  {
   "cell_type": "markdown",
   "metadata": {},
   "source": [
    "# 1. What was the total revenue?"
   ]
  },
  {
   "cell_type": "code",
   "execution_count": 4,
   "metadata": {
    "scrolled": true
   },
   "outputs": [],
   "source": [
    "transactions = df[df.eventType=='transaction']"
   ]
  },
  {
   "cell_type": "code",
   "execution_count": 5,
   "metadata": {},
   "outputs": [
    {
     "data": {
      "text/html": [
       "<div>\n",
       "<style scoped>\n",
       "    .dataframe tbody tr th:only-of-type {\n",
       "        vertical-align: middle;\n",
       "    }\n",
       "\n",
       "    .dataframe tbody tr th {\n",
       "        vertical-align: top;\n",
       "    }\n",
       "\n",
       "    .dataframe thead th {\n",
       "        text-align: right;\n",
       "    }\n",
       "</style>\n",
       "<table border=\"1\" class=\"dataframe\">\n",
       "  <thead>\n",
       "    <tr style=\"text-align: right;\">\n",
       "      <th></th>\n",
       "      <th>browserType</th>\n",
       "      <th>browserVersion</th>\n",
       "      <th>category</th>\n",
       "      <th>date</th>\n",
       "      <th>deviceType</th>\n",
       "      <th>eventType</th>\n",
       "      <th>order</th>\n",
       "      <th>orderItems</th>\n",
       "      <th>osType</th>\n",
       "      <th>osVersion</th>\n",
       "      <th>...</th>\n",
       "      <th>referrer</th>\n",
       "      <th>referrerType</th>\n",
       "      <th>searchItems</th>\n",
       "      <th>status</th>\n",
       "      <th>tags</th>\n",
       "      <th>url</th>\n",
       "      <th>utm_campaign</th>\n",
       "      <th>utm_medium</th>\n",
       "      <th>utm_source</th>\n",
       "      <th>visitor</th>\n",
       "    </tr>\n",
       "  </thead>\n",
       "  <tbody>\n",
       "    <tr>\n",
       "      <th>691501</th>\n",
       "      <td>Chrome</td>\n",
       "      <td>58.0.3029</td>\n",
       "      <td>None</td>\n",
       "      <td>2017-06-03 06:19:08</td>\n",
       "      <td>desktop</td>\n",
       "      <td>transaction</td>\n",
       "      <td>5258.0</td>\n",
       "      <td>[{'product': 6461, 'price': 467.91, 'quantity'...</td>\n",
       "      <td>Windows</td>\n",
       "      <td>None</td>\n",
       "      <td>...</td>\n",
       "      <td>6e03ee62984224d0c0f08d4b68b819297d7f4d14</td>\n",
       "      <td>None</td>\n",
       "      <td>NaN</td>\n",
       "      <td>NaN</td>\n",
       "      <td>NaN</td>\n",
       "      <td>88ec4ebe923107cfcd385160d1d7d5c4121f8077</td>\n",
       "      <td>None</td>\n",
       "      <td>None</td>\n",
       "      <td>None</td>\n",
       "      <td>0f0b47a0-f5a3-11e5-b7a4-4ff0e59e724a</td>\n",
       "    </tr>\n",
       "  </tbody>\n",
       "</table>\n",
       "<p>1 rows × 24 columns</p>\n",
       "</div>"
      ],
      "text/plain": [
       "       browserType browserVersion category                date deviceType  \\\n",
       "691501      Chrome      58.0.3029     None 2017-06-03 06:19:08    desktop   \n",
       "\n",
       "          eventType   order  \\\n",
       "691501  transaction  5258.0   \n",
       "\n",
       "                                               orderItems   osType osVersion  \\\n",
       "691501  [{'product': 6461, 'price': 467.91, 'quantity'...  Windows      None   \n",
       "\n",
       "                        ...                   \\\n",
       "691501                  ...                    \n",
       "\n",
       "                                        referrer  referrerType  searchItems  \\\n",
       "691501  6e03ee62984224d0c0f08d4b68b819297d7f4d14          None          NaN   \n",
       "\n",
       "       status tags                                       url utm_campaign  \\\n",
       "691501    NaN  NaN  88ec4ebe923107cfcd385160d1d7d5c4121f8077         None   \n",
       "\n",
       "       utm_medium utm_source                               visitor  \n",
       "691501       None       None  0f0b47a0-f5a3-11e5-b7a4-4ff0e59e724a  \n",
       "\n",
       "[1 rows x 24 columns]"
      ]
     },
     "execution_count": 5,
     "metadata": {},
     "output_type": "execute_result"
    }
   ],
   "source": [
    "transactions.head(1)"
   ]
  },
  {
   "cell_type": "code",
   "execution_count": 6,
   "metadata": {},
   "outputs": [],
   "source": [
    "df_items = []"
   ]
  },
  {
   "cell_type": "code",
   "execution_count": 7,
   "metadata": {
    "scrolled": true
   },
   "outputs": [
    {
     "data": {
      "text/plain": [
       "[]"
      ]
     },
     "execution_count": 7,
     "metadata": {},
     "output_type": "execute_result"
    }
   ],
   "source": [
    "df_items"
   ]
  },
  {
   "cell_type": "code",
   "execution_count": 12,
   "metadata": {},
   "outputs": [],
   "source": [
    "items = transactions.orderItems"
   ]
  },
  {
   "cell_type": "code",
   "execution_count": 13,
   "metadata": {},
   "outputs": [],
   "source": [
    "for item in items:\n",
    "    for i in item:\n",
    "        df_items.append(i)"
   ]
  },
  {
   "cell_type": "code",
   "execution_count": 14,
   "metadata": {},
   "outputs": [],
   "source": [
    "df_items = pd.DataFrame(df_items)"
   ]
  },
  {
   "cell_type": "code",
   "execution_count": 15,
   "metadata": {},
   "outputs": [
    {
     "data": {
      "text/html": [
       "<div>\n",
       "<style scoped>\n",
       "    .dataframe tbody tr th:only-of-type {\n",
       "        vertical-align: middle;\n",
       "    }\n",
       "\n",
       "    .dataframe tbody tr th {\n",
       "        vertical-align: top;\n",
       "    }\n",
       "\n",
       "    .dataframe thead th {\n",
       "        text-align: right;\n",
       "    }\n",
       "</style>\n",
       "<table border=\"1\" class=\"dataframe\">\n",
       "  <thead>\n",
       "    <tr style=\"text-align: right;\">\n",
       "      <th></th>\n",
       "      <th>price</th>\n",
       "      <th>product</th>\n",
       "      <th>quantity</th>\n",
       "    </tr>\n",
       "  </thead>\n",
       "  <tbody>\n",
       "    <tr>\n",
       "      <th>0</th>\n",
       "      <td>467.91</td>\n",
       "      <td>6461</td>\n",
       "      <td>2.0</td>\n",
       "    </tr>\n",
       "    <tr>\n",
       "      <th>1</th>\n",
       "      <td>30.27</td>\n",
       "      <td>19168</td>\n",
       "      <td>10.0</td>\n",
       "    </tr>\n",
       "    <tr>\n",
       "      <th>2</th>\n",
       "      <td>30.87</td>\n",
       "      <td>18143</td>\n",
       "      <td>22.0</td>\n",
       "    </tr>\n",
       "    <tr>\n",
       "      <th>3</th>\n",
       "      <td>59.67</td>\n",
       "      <td>19925</td>\n",
       "      <td>2.0</td>\n",
       "    </tr>\n",
       "    <tr>\n",
       "      <th>4</th>\n",
       "      <td>129.90</td>\n",
       "      <td>38</td>\n",
       "      <td>1.0</td>\n",
       "    </tr>\n",
       "  </tbody>\n",
       "</table>\n",
       "</div>"
      ],
      "text/plain": [
       "    price  product  quantity\n",
       "0  467.91     6461       2.0\n",
       "1   30.27    19168      10.0\n",
       "2   30.87    18143      22.0\n",
       "3   59.67    19925       2.0\n",
       "4  129.90       38       1.0"
      ]
     },
     "execution_count": 15,
     "metadata": {},
     "output_type": "execute_result"
    }
   ],
   "source": [
    "df_items.head()"
   ]
  },
  {
   "cell_type": "code",
   "execution_count": 16,
   "metadata": {},
   "outputs": [],
   "source": [
    "df_items['total'] = df_items.price * df_items.quantity"
   ]
  },
  {
   "cell_type": "code",
   "execution_count": 17,
   "metadata": {},
   "outputs": [
    {
     "data": {
      "text/html": [
       "<div>\n",
       "<style scoped>\n",
       "    .dataframe tbody tr th:only-of-type {\n",
       "        vertical-align: middle;\n",
       "    }\n",
       "\n",
       "    .dataframe tbody tr th {\n",
       "        vertical-align: top;\n",
       "    }\n",
       "\n",
       "    .dataframe thead th {\n",
       "        text-align: right;\n",
       "    }\n",
       "</style>\n",
       "<table border=\"1\" class=\"dataframe\">\n",
       "  <thead>\n",
       "    <tr style=\"text-align: right;\">\n",
       "      <th></th>\n",
       "      <th>price</th>\n",
       "      <th>product</th>\n",
       "      <th>quantity</th>\n",
       "      <th>total</th>\n",
       "    </tr>\n",
       "  </thead>\n",
       "  <tbody>\n",
       "    <tr>\n",
       "      <th>0</th>\n",
       "      <td>467.91</td>\n",
       "      <td>6461</td>\n",
       "      <td>2.0</td>\n",
       "      <td>935.82</td>\n",
       "    </tr>\n",
       "    <tr>\n",
       "      <th>1</th>\n",
       "      <td>30.27</td>\n",
       "      <td>19168</td>\n",
       "      <td>10.0</td>\n",
       "      <td>302.70</td>\n",
       "    </tr>\n",
       "    <tr>\n",
       "      <th>2</th>\n",
       "      <td>30.87</td>\n",
       "      <td>18143</td>\n",
       "      <td>22.0</td>\n",
       "      <td>679.14</td>\n",
       "    </tr>\n",
       "    <tr>\n",
       "      <th>3</th>\n",
       "      <td>59.67</td>\n",
       "      <td>19925</td>\n",
       "      <td>2.0</td>\n",
       "      <td>119.34</td>\n",
       "    </tr>\n",
       "    <tr>\n",
       "      <th>4</th>\n",
       "      <td>129.90</td>\n",
       "      <td>38</td>\n",
       "      <td>1.0</td>\n",
       "      <td>129.90</td>\n",
       "    </tr>\n",
       "  </tbody>\n",
       "</table>\n",
       "</div>"
      ],
      "text/plain": [
       "    price  product  quantity   total\n",
       "0  467.91     6461       2.0  935.82\n",
       "1   30.27    19168      10.0  302.70\n",
       "2   30.87    18143      22.0  679.14\n",
       "3   59.67    19925       2.0  119.34\n",
       "4  129.90       38       1.0  129.90"
      ]
     },
     "execution_count": 17,
     "metadata": {},
     "output_type": "execute_result"
    }
   ],
   "source": [
    "df_items.head()"
   ]
  },
  {
   "cell_type": "code",
   "execution_count": 18,
   "metadata": {},
   "outputs": [
    {
     "data": {
      "text/plain": [
       "212022.27000000002"
      ]
     },
     "execution_count": 18,
     "metadata": {},
     "output_type": "execute_result"
    }
   ],
   "source": [
    "df_items.total.sum()"
   ]
  },
  {
   "cell_type": "markdown",
   "metadata": {},
   "source": [
    "# 2. What percentage of visitors used a mobile device?"
   ]
  },
  {
   "cell_type": "code",
   "execution_count": 21,
   "metadata": {},
   "outputs": [],
   "source": [
    "perc = (len(df[df.deviceType == 'mobile']) / len(df)) * 100"
   ]
  },
  {
   "cell_type": "code",
   "execution_count": 22,
   "metadata": {},
   "outputs": [
    {
     "data": {
      "text/plain": [
       "41.52242235082472"
      ]
     },
     "execution_count": 22,
     "metadata": {},
     "output_type": "execute_result"
    }
   ],
   "source": [
    "perc"
   ]
  },
  {
   "cell_type": "markdown",
   "metadata": {},
   "source": [
    "# 3. What search query had the highest click-through rate?\n"
   ]
  },
  {
   "cell_type": "markdown",
   "metadata": {},
   "source": [
    "# 4. When is the site most busy?"
   ]
  },
  {
   "cell_type": "code",
   "execution_count": 62,
   "metadata": {},
   "outputs": [],
   "source": [
    "time = df.date.apply(lambda x: x.time())"
   ]
  },
  {
   "cell_type": "code",
   "execution_count": 67,
   "metadata": {
    "scrolled": true
   },
   "outputs": [
    {
     "data": {
      "text/plain": [
       "<matplotlib.axes._subplots.AxesSubplot at 0x105bb42b0>"
      ]
     },
     "execution_count": 67,
     "metadata": {},
     "output_type": "execute_result"
    },
    {
     "data": {
      "image/png": "[encoded data removed]",
      "text/plain": [
       "<Figure size 432x288 with 1 Axes>"
      ]
     },
     "metadata": {},
     "output_type": "display_data"
    }
   ],
   "source": [
    "time.value_counts().plot()"
   ]
  },
  {
   "cell_type": "code",
   "execution_count": 71,
   "metadata": {},
   "outputs": [],
   "source": [
    "nu_weekday = df.date.apply(lambda x: x.weekday())"
   ]
  },
  {
   "cell_type": "code",
   "execution_count": 73,
   "metadata": {},
   "outputs": [
    {
     "data": {
      "text/plain": [
       "0    5\n",
       "1    5\n",
       "2    5\n",
       "3    5\n",
       "4    5\n",
       "Name: date, dtype: int64"
      ]
     },
     "execution_count": 73,
     "metadata": {},
     "output_type": "execute_result"
    }
   ],
   "source": [
    "nu_weekday.head()"
   ]
  },
  {
   "cell_type": "code",
   "execution_count": 75,
   "metadata": {},
   "outputs": [],
   "source": [
    "weekdays = []\n",
    "for n in nu_weekday:\n",
    "    if n==0:\n",
    "        weekday = 'monday'\n",
    "    if n==1:\n",
    "        weekday = 'tuesday'\n",
    "    if n==2:\n",
    "        weekday = 'wednesday'\n",
    "    if n==3:\n",
    "        weekday = 'thursday'\n",
    "    if n==4:\n",
    "        weekday = 'friday'\n",
    "    if n==5:\n",
    "        weekday = 'saturday'\n",
    "    if n==6:\n",
    "        weekday = 'sunday'\n",
    "    weekdays.append(weekday)"
   ]
  },
  {
   "cell_type": "code",
   "execution_count": 77,
   "metadata": {},
   "outputs": [],
   "source": [
    "df['weekday'] = weekdays"
   ]
  },
  {
   "cell_type": "code",
   "execution_count": 80,
   "metadata": {},
   "outputs": [
    {
     "data": {
      "text/plain": [
       "<matplotlib.axes._subplots.AxesSubplot at 0x1068c3b70>"
      ]
     },
     "execution_count": 80,
     "metadata": {},
     "output_type": "execute_result"
    },
    {
     "data": {
      "image/png": "[encoded data removed]",
      "text/plain": [
       "<Figure size 432x288 with 1 Axes>"
      ]
     },
     "metadata": {},
     "output_type": "display_data"
    }
   ],
   "source": [
    "df.weekday.value_counts().plot()"
   ]
  },
  {
   "cell_type": "markdown",
   "metadata": {},
   "source": [
    "# 5. What is the share of revenue among categories brought by Campaign_2?"
   ]
  },
  {
   "cell_type": "markdown",
   "metadata": {},
   "source": [
    "# 6. Estimate the impact of unavailable products"
   ]
  },
  {
   "cell_type": "code",
   "execution_count": null,
   "metadata": {},
   "outputs": [],
   "source": []
  }
 ],
 "metadata": {
  "kernelspec": {
   "display_name": "Python 3",
   "language": "python",
   "name": "python3"
  },
  "language_info": {
   "codemirror_mode": {
    "name": "ipython",
    "version": 3
   },
   "file_extension": ".py",
   "mimetype": "text/x-python",
   "name": "python",
   "nbconvert_exporter": "python",
   "pygments_lexer": "ipython3",
   "version": "3.6.5"
  }
 },
 "nbformat": 4,
 "nbformat_minor": 2
}
