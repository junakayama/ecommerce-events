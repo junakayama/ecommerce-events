{
 "cells": [
  {
   "cell_type": "code",
   "execution_count": 1,
   "metadata": {},
   "outputs": [],
   "source": [
    "import pandas as pd\n",
    "%matplotlib inline"
   ]
  },
  {
   "cell_type": "code",
   "execution_count": 2,
   "metadata": {},
   "outputs": [],
   "source": [
    "df = pd.read_json('ecommerce-events.ndjson', lines=True)"
   ]
  },
  {
   "cell_type": "code",
   "execution_count": 3,
   "metadata": {
    "scrolled": false
   },
   "outputs": [
    {
     "data": {
      "text/html": [
       "<div>\n",
       "<style scoped>\n",
       "    .dataframe tbody tr th:only-of-type {\n",
       "        vertical-align: middle;\n",
       "    }\n",
       "\n",
       "    .dataframe tbody tr th {\n",
       "        vertical-align: top;\n",
       "    }\n",
       "\n",
       "    .dataframe thead th {\n",
       "        text-align: right;\n",
       "    }\n",
       "</style>\n",
       "<table border=\"1\" class=\"dataframe\">\n",
       "  <thead>\n",
       "    <tr style=\"text-align: right;\">\n",
       "      <th></th>\n",
       "      <th>browserType</th>\n",
       "      <th>browserVersion</th>\n",
       "      <th>category</th>\n",
       "      <th>date</th>\n",
       "      <th>deviceType</th>\n",
       "      <th>eventType</th>\n",
       "      <th>order</th>\n",
       "      <th>orderItems</th>\n",
       "      <th>osType</th>\n",
       "      <th>osVersion</th>\n",
       "      <th>...</th>\n",
       "      <th>referrer</th>\n",
       "      <th>referrerType</th>\n",
       "      <th>searchItems</th>\n",
       "      <th>status</th>\n",
       "      <th>tags</th>\n",
       "      <th>url</th>\n",
       "      <th>utm_campaign</th>\n",
       "      <th>utm_medium</th>\n",
       "      <th>utm_source</th>\n",
       "      <th>visitor</th>\n",
       "    </tr>\n",
       "  </thead>\n",
       "  <tbody>\n",
       "    <tr>\n",
       "      <th>0</th>\n",
       "      <td>Firefox</td>\n",
       "      <td>52.0.0</td>\n",
       "      <td>271|697</td>\n",
       "      <td>2017-06-03 00:07:04</td>\n",
       "      <td>desktop</td>\n",
       "      <td>page</td>\n",
       "      <td>NaN</td>\n",
       "      <td>NaN</td>\n",
       "      <td>Windows</td>\n",
       "      <td>None</td>\n",
       "      <td>...</td>\n",
       "      <td>5af64abc7cb3e5a8be6d22c97331b9afcaad91c5</td>\n",
       "      <td>social</td>\n",
       "      <td>NaN</td>\n",
       "      <td>NaN</td>\n",
       "      <td>NaN</td>\n",
       "      <td>ccde1b63b365cad611f2d1a6fca8a15b0e71d6ef</td>\n",
       "      <td>Campaign_2</td>\n",
       "      <td>Medium_2</td>\n",
       "      <td>Partner_1</td>\n",
       "      <td>89206c00-3f26-11e7-9978-fdec7f5865bc</td>\n",
       "    </tr>\n",
       "  </tbody>\n",
       "</table>\n",
       "<p>1 rows × 24 columns</p>\n",
       "</div>"
      ],
      "text/plain": [
       "  browserType browserVersion category                date deviceType  \\\n",
       "0     Firefox         52.0.0  271|697 2017-06-03 00:07:04    desktop   \n",
       "\n",
       "  eventType  order orderItems   osType osVersion  \\\n",
       "0      page    NaN        NaN  Windows      None   \n",
       "\n",
       "                   ...                   \\\n",
       "0                  ...                    \n",
       "\n",
       "                                   referrer  referrerType  searchItems status  \\\n",
       "0  5af64abc7cb3e5a8be6d22c97331b9afcaad91c5        social          NaN    NaN   \n",
       "\n",
       "  tags                                       url utm_campaign utm_medium  \\\n",
       "0  NaN  ccde1b63b365cad611f2d1a6fca8a15b0e71d6ef   Campaign_2   Medium_2   \n",
       "\n",
       "  utm_source                               visitor  \n",
       "0  Partner_1  89206c00-3f26-11e7-9978-fdec7f5865bc  \n",
       "\n",
       "[1 rows x 24 columns]"
      ]
     },
     "execution_count": 3,
     "metadata": {},
     "output_type": "execute_result"
    }
   ],
   "source": [
    "df.head(1)"
   ]
  },
  {
   "cell_type": "markdown",
   "metadata": {},
   "source": [
    "# 1. What was the total revenue?"
   ]
  },
  {
   "cell_type": "markdown",
   "metadata": {},
   "source": [
    "The total revenue is 212022.27000000002"
   ]
  },
  {
   "cell_type": "code",
   "execution_count": 4,
   "metadata": {
    "scrolled": true
   },
   "outputs": [],
   "source": [
    "transactions = df[df.eventType=='transaction']"
   ]
  },
  {
   "cell_type": "code",
   "execution_count": 5,
   "metadata": {},
   "outputs": [],
   "source": [
    "df_items = []\n",
    "items = transactions.orderItems\n",
    "for item in items:\n",
    "    for i in item:\n",
    "        df_items.append(i)"
   ]
  },
  {
   "cell_type": "code",
   "execution_count": 6,
   "metadata": {},
   "outputs": [],
   "source": [
    "df_items = pd.DataFrame(df_items)\n",
    "df_items['total'] = df_items.price * df_items.quantity"
   ]
  },
  {
   "cell_type": "code",
   "execution_count": 7,
   "metadata": {},
   "outputs": [],
   "source": [
    "total_revenue = df_items.total.sum()"
   ]
  },
  {
   "cell_type": "code",
   "execution_count": 8,
   "metadata": {},
   "outputs": [
    {
     "data": {
      "text/plain": [
       "212022.27000000002"
      ]
     },
     "execution_count": 8,
     "metadata": {},
     "output_type": "execute_result"
    }
   ],
   "source": [
    "total_revenue"
   ]
  },
  {
   "cell_type": "markdown",
   "metadata": {},
   "source": [
    "# 2. What percentage of visitors used a mobile device?"
   ]
  },
  {
   "cell_type": "markdown",
   "metadata": {},
   "source": [
    "Approximately 41% of visitors used mobile device"
   ]
  },
  {
   "cell_type": "code",
   "execution_count": 9,
   "metadata": {},
   "outputs": [],
   "source": [
    "perc = (len(df[df.deviceType == 'mobile']) / len(df)) * 100"
   ]
  },
  {
   "cell_type": "code",
   "execution_count": 10,
   "metadata": {},
   "outputs": [
    {
     "data": {
      "text/plain": [
       "41.52242235082472"
      ]
     },
     "execution_count": 10,
     "metadata": {},
     "output_type": "execute_result"
    }
   ],
   "source": [
    "perc"
   ]
  },
  {
   "cell_type": "markdown",
   "metadata": {},
   "source": [
    "# 3. What search query had the highest click-through rate?\n"
   ]
  },
  {
   "cell_type": "markdown",
   "metadata": {},
   "source": [
    "# 4. When is the site most busy?"
   ]
  },
  {
   "cell_type": "markdown",
   "metadata": {},
   "source": [
    "The site is most busy between 11 a.m. and 10 p.m at the beginning of the week."
   ]
  },
  {
   "cell_type": "code",
   "execution_count": 11,
   "metadata": {},
   "outputs": [],
   "source": [
    "time = df.date.apply(lambda x: x.time())"
   ]
  },
  {
   "cell_type": "code",
   "execution_count": 12,
   "metadata": {
    "scrolled": true
   },
   "outputs": [
    {
     "data": {
      "text/plain": [
       "<matplotlib.axes._subplots.AxesSubplot at 0x10d93c278>"
      ]
     },
     "execution_count": 12,
     "metadata": {},
     "output_type": "execute_result"
    },
    {
     "data": {
      "image/png": "[encoded data removed]",
      "text/plain": [
       "<Figure size 432x288 with 1 Axes>"
      ]
     },
     "metadata": {},
     "output_type": "display_data"
    }
   ],
   "source": [
    "time.value_counts().plot()"
   ]
  },
  {
   "cell_type": "code",
   "execution_count": 13,
   "metadata": {},
   "outputs": [],
   "source": [
    "nu_weekday = df.date.apply(lambda x: x.weekday())"
   ]
  },
  {
   "cell_type": "code",
   "execution_count": 14,
   "metadata": {},
   "outputs": [],
   "source": [
    "weekdays = []\n",
    "for n in nu_weekday:\n",
    "    if n==0:\n",
    "        weekday = 'monday'\n",
    "    if n==1:\n",
    "        weekday = 'tuesday'\n",
    "    if n==2:\n",
    "        weekday = 'wednesday'\n",
    "    if n==3:\n",
    "        weekday = 'thursday'\n",
    "    if n==4:\n",
    "        weekday = 'friday'\n",
    "    if n==5:\n",
    "        weekday = 'saturday'\n",
    "    if n==6:\n",
    "        weekday = 'sunday'\n",
    "    weekdays.append(weekday)"
   ]
  },
  {
   "cell_type": "code",
   "execution_count": 15,
   "metadata": {},
   "outputs": [],
   "source": [
    "df['weekday'] = weekdays"
   ]
  },
  {
   "cell_type": "code",
   "execution_count": 16,
   "metadata": {},
   "outputs": [
    {
     "data": {
      "text/plain": [
       "<matplotlib.axes._subplots.AxesSubplot at 0x10d8d0550>"
      ]
     },
     "execution_count": 16,
     "metadata": {},
     "output_type": "execute_result"
    },
    {
     "data": {
      "image/png": "[encoded data removed]",
      "text/plain": [
       "<Figure size 432x288 with 1 Axes>"
      ]
     },
     "metadata": {},
     "output_type": "display_data"
    }
   ],
   "source": [
    "df.weekday.value_counts().plot(kind='bar')"
   ]
  },
  {
   "cell_type": "markdown",
   "metadata": {},
   "source": [
    "# 5. What is the share of revenue among categories brought by Campaign_2?"
   ]
  },
  {
   "cell_type": "code",
   "execution_count": 17,
   "metadata": {},
   "outputs": [],
   "source": [
    "df_product = df[df.eventType == 'product']\n",
    "df_product = df_product[df_product.utm_campaign == 'Campaign_2']\n",
    "df_transaction = df[df.eventType == 'transaction']\n"
   ]
  },
  {
   "cell_type": "code",
   "execution_count": 18,
   "metadata": {},
   "outputs": [
    {
     "data": {
      "text/plain": [
       "10514"
      ]
     },
     "execution_count": 18,
     "metadata": {},
     "output_type": "execute_result"
    }
   ],
   "source": [
    "len(df_product)"
   ]
  },
  {
   "cell_type": "code",
   "execution_count": 19,
   "metadata": {},
   "outputs": [
    {
     "data": {
      "text/plain": [
       "554"
      ]
     },
     "execution_count": 19,
     "metadata": {},
     "output_type": "execute_result"
    }
   ],
   "source": [
    "len(df_transaction)"
   ]
  },
  {
   "cell_type": "markdown",
   "metadata": {},
   "source": [
    "Filtra os visitantes que estiveram na página do produto e na página de transação"
   ]
  },
  {
   "cell_type": "code",
   "execution_count": 20,
   "metadata": {},
   "outputs": [
    {
     "data": {
      "text/plain": [
       "113"
      ]
     },
     "execution_count": 20,
     "metadata": {},
     "output_type": "execute_result"
    }
   ],
   "source": [
    "visitors_list = df_product.visitor.tolist()\n",
    "in_visitors_list = df_transaction.visitor.isin(visitors_list)\n",
    "df_transaction = df_transaction[in_visitors_list]\n",
    "len(df_transaction)"
   ]
  },
  {
   "cell_type": "code",
   "execution_count": 21,
   "metadata": {},
   "outputs": [
    {
     "data": {
      "text/plain": [
       "224"
      ]
     },
     "execution_count": 21,
     "metadata": {},
     "output_type": "execute_result"
    }
   ],
   "source": [
    "visitors_list = df_transaction.visitor.tolist()\n",
    "in_visitors_list = df_product.visitor.isin(visitors_list)\n",
    "df_product = df_product[in_visitors_list]\n",
    "len(df_product)"
   ]
  },
  {
   "cell_type": "markdown",
   "metadata": {},
   "source": [
    "Pega os itens das transações e transforma em um dataframe"
   ]
  },
  {
   "cell_type": "code",
   "execution_count": 22,
   "metadata": {},
   "outputs": [
    {
     "data": {
      "text/plain": [
       "187"
      ]
     },
     "execution_count": 22,
     "metadata": {},
     "output_type": "execute_result"
    }
   ],
   "source": [
    "df_items = []\n",
    "items = df_transaction.orderItems\n",
    "for item in items:\n",
    "    for i in item:\n",
    "        df_items.append(i)\n",
    "df_items = pd.DataFrame(df_items)\n",
    "len(df_items)"
   ]
  },
  {
   "cell_type": "markdown",
   "metadata": {},
   "source": [
    "Filtra as páginas de produtos que foram trazidas pela campanha 2"
   ]
  },
  {
   "cell_type": "code",
   "execution_count": 23,
   "metadata": {},
   "outputs": [],
   "source": [
    "products_list = df_product['product'].tolist()\n",
    "in_products_list = df_items['product'].isin(products_list)"
   ]
  },
  {
   "cell_type": "code",
   "execution_count": 24,
   "metadata": {},
   "outputs": [
    {
     "data": {
      "text/plain": [
       "82"
      ]
     },
     "execution_count": 24,
     "metadata": {},
     "output_type": "execute_result"
    }
   ],
   "source": [
    "df_items = df_items[in_products_list]\n",
    "len(df_items)"
   ]
  },
  {
   "cell_type": "code",
   "execution_count": 25,
   "metadata": {},
   "outputs": [],
   "source": [
    "total = (df_items.price * df_items.quantity).tolist()"
   ]
  },
  {
   "cell_type": "code",
   "execution_count": 26,
   "metadata": {},
   "outputs": [],
   "source": [
    "df_items['total'] = total\n"
   ]
  },
  {
   "cell_type": "code",
   "execution_count": 27,
   "metadata": {
    "scrolled": true
   },
   "outputs": [],
   "source": [
    "categories = []\n",
    "for product in df_items['product']:\n",
    "    category = ''\n",
    "    for i,v in df_product['product'].items():\n",
    "        if product==v:\n",
    "            category = df_product.loc[i, 'category']\n",
    "            break\n",
    "    categories.append(category)"
   ]
  },
  {
   "cell_type": "code",
   "execution_count": 28,
   "metadata": {},
   "outputs": [],
   "source": [
    "df_items['category'] = categories"
   ]
  },
  {
   "cell_type": "code",
   "execution_count": 29,
   "metadata": {},
   "outputs": [],
   "source": [
    "categories = df_items.groupby(['category']).total.sum()"
   ]
  },
  {
   "cell_type": "code",
   "execution_count": 30,
   "metadata": {},
   "outputs": [],
   "source": [
    "categories = pd.DataFrame(categories)"
   ]
  },
  {
   "cell_type": "code",
   "execution_count": 31,
   "metadata": {},
   "outputs": [],
   "source": [
    "categories['perc'] = categories.total / categories.total.sum() * 100"
   ]
  },
  {
   "cell_type": "code",
   "execution_count": 32,
   "metadata": {},
   "outputs": [
    {
     "data": {
      "text/html": [
       "<div>\n",
       "<style scoped>\n",
       "    .dataframe tbody tr th:only-of-type {\n",
       "        vertical-align: middle;\n",
       "    }\n",
       "\n",
       "    .dataframe tbody tr th {\n",
       "        vertical-align: top;\n",
       "    }\n",
       "\n",
       "    .dataframe thead th {\n",
       "        text-align: right;\n",
       "    }\n",
       "</style>\n",
       "<table border=\"1\" class=\"dataframe\">\n",
       "  <thead>\n",
       "    <tr style=\"text-align: right;\">\n",
       "      <th></th>\n",
       "      <th>total</th>\n",
       "      <th>perc</th>\n",
       "    </tr>\n",
       "    <tr>\n",
       "      <th>category</th>\n",
       "      <th></th>\n",
       "      <th></th>\n",
       "    </tr>\n",
       "  </thead>\n",
       "  <tbody>\n",
       "    <tr>\n",
       "      <th>234|115</th>\n",
       "      <td>20.80</td>\n",
       "      <td>0.126177</td>\n",
       "    </tr>\n",
       "    <tr>\n",
       "      <th>234|676|635</th>\n",
       "      <td>373.12</td>\n",
       "      <td>2.263427</td>\n",
       "    </tr>\n",
       "    <tr>\n",
       "      <th>234|725</th>\n",
       "      <td>127.41</td>\n",
       "      <td>0.772897</td>\n",
       "    </tr>\n",
       "    <tr>\n",
       "      <th>26|156|109</th>\n",
       "      <td>81.81</td>\n",
       "      <td>0.496277</td>\n",
       "    </tr>\n",
       "    <tr>\n",
       "      <th>26|156|521</th>\n",
       "      <td>8.91</td>\n",
       "      <td>0.054050</td>\n",
       "    </tr>\n",
       "    <tr>\n",
       "      <th>26|427</th>\n",
       "      <td>459.80</td>\n",
       "      <td>2.789246</td>\n",
       "    </tr>\n",
       "    <tr>\n",
       "      <th>271|300</th>\n",
       "      <td>1590.94</td>\n",
       "      <td>9.650986</td>\n",
       "    </tr>\n",
       "    <tr>\n",
       "      <th>271|524</th>\n",
       "      <td>199.00</td>\n",
       "      <td>1.207177</td>\n",
       "    </tr>\n",
       "    <tr>\n",
       "      <th>271|697</th>\n",
       "      <td>5528.71</td>\n",
       "      <td>33.538351</td>\n",
       "    </tr>\n",
       "    <tr>\n",
       "      <th>299|86</th>\n",
       "      <td>99.90</td>\n",
       "      <td>0.606015</td>\n",
       "    </tr>\n",
       "    <tr>\n",
       "      <th>29|153</th>\n",
       "      <td>421.11</td>\n",
       "      <td>2.554544</td>\n",
       "    </tr>\n",
       "    <tr>\n",
       "      <th>319</th>\n",
       "      <td>164.92</td>\n",
       "      <td>1.000440</td>\n",
       "    </tr>\n",
       "    <tr>\n",
       "      <th>319|427|686</th>\n",
       "      <td>74.70</td>\n",
       "      <td>0.453146</td>\n",
       "    </tr>\n",
       "    <tr>\n",
       "      <th>319|689|244</th>\n",
       "      <td>1032.17</td>\n",
       "      <td>6.261367</td>\n",
       "    </tr>\n",
       "    <tr>\n",
       "      <th>319|764|6</th>\n",
       "      <td>30.51</td>\n",
       "      <td>0.185080</td>\n",
       "    </tr>\n",
       "    <tr>\n",
       "      <th>319|91</th>\n",
       "      <td>233.64</td>\n",
       "      <td>1.417311</td>\n",
       "    </tr>\n",
       "    <tr>\n",
       "      <th>322|173|759</th>\n",
       "      <td>2389.40</td>\n",
       "      <td>14.494617</td>\n",
       "    </tr>\n",
       "    <tr>\n",
       "      <th>349|215</th>\n",
       "      <td>143.91</td>\n",
       "      <td>0.872989</td>\n",
       "    </tr>\n",
       "    <tr>\n",
       "      <th>349|215|628</th>\n",
       "      <td>620.73</td>\n",
       "      <td>3.765483</td>\n",
       "    </tr>\n",
       "    <tr>\n",
       "      <th>349|250|396</th>\n",
       "      <td>25.90</td>\n",
       "      <td>0.157115</td>\n",
       "    </tr>\n",
       "    <tr>\n",
       "      <th>53|329|681</th>\n",
       "      <td>35.90</td>\n",
       "      <td>0.217777</td>\n",
       "    </tr>\n",
       "    <tr>\n",
       "      <th>558|552</th>\n",
       "      <td>294.90</td>\n",
       "      <td>1.788927</td>\n",
       "    </tr>\n",
       "    <tr>\n",
       "      <th>594|439|654</th>\n",
       "      <td>59.90</td>\n",
       "      <td>0.363366</td>\n",
       "    </tr>\n",
       "    <tr>\n",
       "      <th>756|268|188</th>\n",
       "      <td>287.28</td>\n",
       "      <td>1.742703</td>\n",
       "    </tr>\n",
       "    <tr>\n",
       "      <th>756|763|181</th>\n",
       "      <td>2179.37</td>\n",
       "      <td>13.220530</td>\n",
       "    </tr>\n",
       "  </tbody>\n",
       "</table>\n",
       "</div>"
      ],
      "text/plain": [
       "               total       perc\n",
       "category                       \n",
       "234|115        20.80   0.126177\n",
       "234|676|635   373.12   2.263427\n",
       "234|725       127.41   0.772897\n",
       "26|156|109     81.81   0.496277\n",
       "26|156|521      8.91   0.054050\n",
       "26|427        459.80   2.789246\n",
       "271|300      1590.94   9.650986\n",
       "271|524       199.00   1.207177\n",
       "271|697      5528.71  33.538351\n",
       "299|86         99.90   0.606015\n",
       "29|153        421.11   2.554544\n",
       "319           164.92   1.000440\n",
       "319|427|686    74.70   0.453146\n",
       "319|689|244  1032.17   6.261367\n",
       "319|764|6      30.51   0.185080\n",
       "319|91        233.64   1.417311\n",
       "322|173|759  2389.40  14.494617\n",
       "349|215       143.91   0.872989\n",
       "349|215|628   620.73   3.765483\n",
       "349|250|396    25.90   0.157115\n",
       "53|329|681     35.90   0.217777\n",
       "558|552       294.90   1.788927\n",
       "594|439|654    59.90   0.363366\n",
       "756|268|188   287.28   1.742703\n",
       "756|763|181  2179.37  13.220530"
      ]
     },
     "execution_count": 32,
     "metadata": {},
     "output_type": "execute_result"
    }
   ],
   "source": [
    "categories"
   ]
  },
  {
   "cell_type": "code",
   "execution_count": 33,
   "metadata": {},
   "outputs": [
    {
     "data": {
      "text/plain": [
       "<matplotlib.axes._subplots.AxesSubplot at 0x10da0a320>"
      ]
     },
     "execution_count": 33,
     "metadata": {},
     "output_type": "execute_result"
    },
    {
     "data": {
      "image/png": "[encoded data removed]",
      "text/plain": [
       "<Figure size 720x360 with 1 Axes>"
      ]
     },
     "metadata": {},
     "output_type": "display_data"
    }
   ],
   "source": [
    "categories.perc.plot(kind='bar', figsize=(10,5))"
   ]
  },
  {
   "cell_type": "markdown",
   "metadata": {},
   "source": [
    "# 6. Estimate the impact of unavailable products"
   ]
  },
  {
   "cell_type": "code",
   "execution_count": 34,
   "metadata": {},
   "outputs": [],
   "source": [
    "df_product = df[df.eventType == 'product']\n",
    "df_product = df_product[df_product.status == 'UNAVAILABLE']"
   ]
  },
  {
   "cell_type": "code",
   "execution_count": 35,
   "metadata": {},
   "outputs": [],
   "source": [
    "df_search = df[df.eventType == 'search']\n",
    "df_search = df_search[pd.notnull(df_search.searchItems)]"
   ]
  },
  {
   "cell_type": "code",
   "execution_count": 36,
   "metadata": {},
   "outputs": [],
   "source": [
    "search_items = df_search.searchItems\n",
    "unavailable_products = df_product['product'].tolist()"
   ]
  },
  {
   "cell_type": "code",
   "execution_count": 37,
   "metadata": {},
   "outputs": [],
   "source": [
    "qtd_un = []\n",
    "qtd_products = []\n",
    "for items in search_items:\n",
    "    un = 0\n",
    "    for item in items:\n",
    "        if item in unavailable_products:\n",
    "            un += 1\n",
    "    qtd_products.append(len(items))\n",
    "    qtd_un.append(un)"
   ]
  },
  {
   "cell_type": "code",
   "execution_count": 38,
   "metadata": {},
   "outputs": [],
   "source": [
    "df_search['qtd_unavailables'] = qtd_un\n",
    "df_search['qtd_products'] = qtd_products\n",
    "df_search['perc_unavailables'] = df_search.qtd_unavailables / df_search.qtd_products * 100"
   ]
  },
  {
   "cell_type": "code",
   "execution_count": 39,
   "metadata": {},
   "outputs": [
    {
     "data": {
      "text/plain": [
       "19.868916130598375"
      ]
     },
     "execution_count": 39,
     "metadata": {},
     "output_type": "execute_result"
    }
   ],
   "source": [
    "len(df_search[df_search.perc_unavailables > 30]) / len(df_search) * 100"
   ]
  },
  {
   "cell_type": "code",
   "execution_count": null,
   "metadata": {},
   "outputs": [],
   "source": []
  }
 ],
 "metadata": {
  "kernelspec": {
   "display_name": "Python 3",
   "language": "python",
   "name": "python3"
  },
  "language_info": {
   "codemirror_mode": {
    "name": "ipython",
    "version": 3
   },
   "file_extension": ".py",
   "mimetype": "text/x-python",
   "name": "python",
   "nbconvert_exporter": "python",
   "pygments_lexer": "ipython3",
   "version": "3.6.5"
  }
 },
 "nbformat": 4,
 "nbformat_minor": 2
}
