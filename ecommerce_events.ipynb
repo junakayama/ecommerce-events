{
 "cells": [
  {
   "cell_type": "code",
   "execution_count": 1,
   "metadata": {},
   "outputs": [],
   "source": [
    "import pandas as pd\n",
    "%matplotlib inline"
   ]
  },
  {
   "cell_type": "code",
   "execution_count": 2,
   "metadata": {},
   "outputs": [],
   "source": [
    "df = pd.read_json('dados/ecommerce-events.ndjson', lines=True)"
   ]
  },
  {
   "cell_type": "code",
   "execution_count": 3,
   "metadata": {},
   "outputs": [
    {
     "data": {
      "text/html": [
       "<div>\n",
       "<style scoped>\n",
       "    .dataframe tbody tr th:only-of-type {\n",
       "        vertical-align: middle;\n",
       "    }\n",
       "\n",
       "    .dataframe tbody tr th {\n",
       "        vertical-align: top;\n",
       "    }\n",
       "\n",
       "    .dataframe thead th {\n",
       "        text-align: right;\n",
       "    }\n",
       "</style>\n",
       "<table border=\"1\" class=\"dataframe\">\n",
       "  <thead>\n",
       "    <tr style=\"text-align: right;\">\n",
       "      <th></th>\n",
       "      <th>browserType</th>\n",
       "      <th>browserVersion</th>\n",
       "      <th>category</th>\n",
       "      <th>date</th>\n",
       "      <th>deviceType</th>\n",
       "      <th>eventType</th>\n",
       "      <th>order</th>\n",
       "      <th>orderItems</th>\n",
       "      <th>osType</th>\n",
       "      <th>osVersion</th>\n",
       "      <th>...</th>\n",
       "      <th>referrer</th>\n",
       "      <th>referrerType</th>\n",
       "      <th>searchItems</th>\n",
       "      <th>status</th>\n",
       "      <th>tags</th>\n",
       "      <th>url</th>\n",
       "      <th>utm_campaign</th>\n",
       "      <th>utm_medium</th>\n",
       "      <th>utm_source</th>\n",
       "      <th>visitor</th>\n",
       "    </tr>\n",
       "  </thead>\n",
       "  <tbody>\n",
       "    <tr>\n",
       "      <th>0</th>\n",
       "      <td>Firefox</td>\n",
       "      <td>52.0.0</td>\n",
       "      <td>271|697</td>\n",
       "      <td>2017-06-03 00:07:04</td>\n",
       "      <td>desktop</td>\n",
       "      <td>page</td>\n",
       "      <td>NaN</td>\n",
       "      <td>NaN</td>\n",
       "      <td>Windows</td>\n",
       "      <td>None</td>\n",
       "      <td>...</td>\n",
       "      <td>5af64abc7cb3e5a8be6d22c97331b9afcaad91c5</td>\n",
       "      <td>social</td>\n",
       "      <td>NaN</td>\n",
       "      <td>NaN</td>\n",
       "      <td>NaN</td>\n",
       "      <td>ccde1b63b365cad611f2d1a6fca8a15b0e71d6ef</td>\n",
       "      <td>Campaign_2</td>\n",
       "      <td>Medium_2</td>\n",
       "      <td>Partner_1</td>\n",
       "      <td>89206c00-3f26-11e7-9978-fdec7f5865bc</td>\n",
       "    </tr>\n",
       "    <tr>\n",
       "      <th>1</th>\n",
       "      <td>Other</td>\n",
       "      <td>0.0.0</td>\n",
       "      <td>None</td>\n",
       "      <td>2017-06-03 00:07:06</td>\n",
       "      <td>desktop</td>\n",
       "      <td>page</td>\n",
       "      <td>NaN</td>\n",
       "      <td>NaN</td>\n",
       "      <td>Other</td>\n",
       "      <td>None</td>\n",
       "      <td>...</td>\n",
       "      <td>None</td>\n",
       "      <td>direct</td>\n",
       "      <td>NaN</td>\n",
       "      <td>NaN</td>\n",
       "      <td>NaN</td>\n",
       "      <td>5c808dff012fcbe74dc2941a7664e357db367176</td>\n",
       "      <td>None</td>\n",
       "      <td>None</td>\n",
       "      <td>None</td>\n",
       "      <td>b96acfe0-4809-11e7-9b7d-e57b4710e964</td>\n",
       "    </tr>\n",
       "    <tr>\n",
       "      <th>2</th>\n",
       "      <td>Chrome Mobile</td>\n",
       "      <td>58.0.3029</td>\n",
       "      <td>None</td>\n",
       "      <td>2017-06-03 00:07:07</td>\n",
       "      <td>mobile</td>\n",
       "      <td>page</td>\n",
       "      <td>NaN</td>\n",
       "      <td>NaN</td>\n",
       "      <td>Android</td>\n",
       "      <td>5.1.1</td>\n",
       "      <td>...</td>\n",
       "      <td>2282902993188bb2b91ce4e931c6f7a4a946f725</td>\n",
       "      <td>None</td>\n",
       "      <td>NaN</td>\n",
       "      <td>NaN</td>\n",
       "      <td>NaN</td>\n",
       "      <td>db2c1fd6668d7432a3e298b40f7b8758cc3e8447</td>\n",
       "      <td>None</td>\n",
       "      <td>None</td>\n",
       "      <td>None</td>\n",
       "      <td>70b09b50-4808-11e7-b949-31f33cf8565d</td>\n",
       "    </tr>\n",
       "    <tr>\n",
       "      <th>3</th>\n",
       "      <td>Chrome</td>\n",
       "      <td>50.0.2661</td>\n",
       "      <td>594|541|319</td>\n",
       "      <td>2017-06-03 00:07:24</td>\n",
       "      <td>desktop</td>\n",
       "      <td>page</td>\n",
       "      <td>NaN</td>\n",
       "      <td>NaN</td>\n",
       "      <td>Windows</td>\n",
       "      <td>7</td>\n",
       "      <td>...</td>\n",
       "      <td>e4684c143dfb4f377940afd7a228795b805e554e</td>\n",
       "      <td>None</td>\n",
       "      <td>NaN</td>\n",
       "      <td>NaN</td>\n",
       "      <td>NaN</td>\n",
       "      <td>aefa097f4f0deba18e6db60790704941b559034d</td>\n",
       "      <td>None</td>\n",
       "      <td>None</td>\n",
       "      <td>None</td>\n",
       "      <td>ff14b670-4776-11e7-8c72-5f5d3fe5c610</td>\n",
       "    </tr>\n",
       "    <tr>\n",
       "      <th>4</th>\n",
       "      <td>Chrome</td>\n",
       "      <td>55.0.2883</td>\n",
       "      <td>558|648</td>\n",
       "      <td>2017-06-03 00:07:38</td>\n",
       "      <td>desktop</td>\n",
       "      <td>page</td>\n",
       "      <td>NaN</td>\n",
       "      <td>NaN</td>\n",
       "      <td>Windows</td>\n",
       "      <td>None</td>\n",
       "      <td>...</td>\n",
       "      <td>3385b88a74f4bc41a423e47a8b34e188ba8c3ea8</td>\n",
       "      <td>None</td>\n",
       "      <td>NaN</td>\n",
       "      <td>NaN</td>\n",
       "      <td>NaN</td>\n",
       "      <td>131365d819084be07328b1cf624c1214c8e5faeb</td>\n",
       "      <td>None</td>\n",
       "      <td>None</td>\n",
       "      <td>None</td>\n",
       "      <td>fad427f0-d767-11e6-aea4-61a60e8da6e5</td>\n",
       "    </tr>\n",
       "  </tbody>\n",
       "</table>\n",
       "<p>5 rows × 24 columns</p>\n",
       "</div>"
      ],
      "text/plain": [
       "     browserType browserVersion     category                date deviceType  \\\n",
       "0        Firefox         52.0.0      271|697 2017-06-03 00:07:04    desktop   \n",
       "1          Other          0.0.0         None 2017-06-03 00:07:06    desktop   \n",
       "2  Chrome Mobile      58.0.3029         None 2017-06-03 00:07:07     mobile   \n",
       "3         Chrome      50.0.2661  594|541|319 2017-06-03 00:07:24    desktop   \n",
       "4         Chrome      55.0.2883      558|648 2017-06-03 00:07:38    desktop   \n",
       "\n",
       "  eventType  order orderItems   osType osVersion  \\\n",
       "0      page    NaN        NaN  Windows      None   \n",
       "1      page    NaN        NaN    Other      None   \n",
       "2      page    NaN        NaN  Android     5.1.1   \n",
       "3      page    NaN        NaN  Windows         7   \n",
       "4      page    NaN        NaN  Windows      None   \n",
       "\n",
       "                   ...                   \\\n",
       "0                  ...                    \n",
       "1                  ...                    \n",
       "2                  ...                    \n",
       "3                  ...                    \n",
       "4                  ...                    \n",
       "\n",
       "                                   referrer  referrerType  searchItems status  \\\n",
       "0  5af64abc7cb3e5a8be6d22c97331b9afcaad91c5        social          NaN    NaN   \n",
       "1                                      None        direct          NaN    NaN   \n",
       "2  2282902993188bb2b91ce4e931c6f7a4a946f725          None          NaN    NaN   \n",
       "3  e4684c143dfb4f377940afd7a228795b805e554e          None          NaN    NaN   \n",
       "4  3385b88a74f4bc41a423e47a8b34e188ba8c3ea8          None          NaN    NaN   \n",
       "\n",
       "  tags                                       url utm_campaign utm_medium  \\\n",
       "0  NaN  ccde1b63b365cad611f2d1a6fca8a15b0e71d6ef   Campaign_2   Medium_2   \n",
       "1  NaN  5c808dff012fcbe74dc2941a7664e357db367176         None       None   \n",
       "2  NaN  db2c1fd6668d7432a3e298b40f7b8758cc3e8447         None       None   \n",
       "3  NaN  aefa097f4f0deba18e6db60790704941b559034d         None       None   \n",
       "4  NaN  131365d819084be07328b1cf624c1214c8e5faeb         None       None   \n",
       "\n",
       "  utm_source                               visitor  \n",
       "0  Partner_1  89206c00-3f26-11e7-9978-fdec7f5865bc  \n",
       "1       None  b96acfe0-4809-11e7-9b7d-e57b4710e964  \n",
       "2       None  70b09b50-4808-11e7-b949-31f33cf8565d  \n",
       "3       None  ff14b670-4776-11e7-8c72-5f5d3fe5c610  \n",
       "4       None  fad427f0-d767-11e6-aea4-61a60e8da6e5  \n",
       "\n",
       "[5 rows x 24 columns]"
      ]
     },
     "execution_count": 3,
     "metadata": {},
     "output_type": "execute_result"
    }
   ],
   "source": [
    "df.head()"
   ]
  },
  {
   "cell_type": "markdown",
   "metadata": {},
   "source": [
    "# 1. What was the total revenue?"
   ]
  },
  {
   "cell_type": "markdown",
   "metadata": {},
   "source": [
    "The total revenue is 212022.27000000002"
   ]
  },
  {
   "cell_type": "code",
   "execution_count": 4,
   "metadata": {
    "scrolled": true
   },
   "outputs": [],
   "source": [
    "transactions = df[df.eventType=='transaction']"
   ]
  },
  {
   "cell_type": "code",
   "execution_count": 5,
   "metadata": {},
   "outputs": [],
   "source": [
    "df_items = []\n",
    "items = transactions.orderItems\n",
    "for item in items:\n",
    "    for i in item:\n",
    "        df_items.append(i)"
   ]
  },
  {
   "cell_type": "code",
   "execution_count": 6,
   "metadata": {},
   "outputs": [],
   "source": [
    "df_items = pd.DataFrame(df_items)\n",
    "df_items['total'] = df_items.price * df_items.quantity"
   ]
  },
  {
   "cell_type": "code",
   "execution_count": 7,
   "metadata": {},
   "outputs": [],
   "source": [
    "total_revenue = df_items.total.sum()"
   ]
  },
  {
   "cell_type": "code",
   "execution_count": 8,
   "metadata": {},
   "outputs": [
    {
     "data": {
      "text/plain": [
       "212022.27000000002"
      ]
     },
     "execution_count": 8,
     "metadata": {},
     "output_type": "execute_result"
    }
   ],
   "source": [
    "total_revenue"
   ]
  },
  {
   "cell_type": "markdown",
   "metadata": {},
   "source": [
    "# 2. What percentage of visitors used a mobile device?"
   ]
  },
  {
   "cell_type": "markdown",
   "metadata": {},
   "source": [
    "Approximately 41% of visitors used mobile device"
   ]
  },
  {
   "cell_type": "code",
   "execution_count": 9,
   "metadata": {},
   "outputs": [],
   "source": [
    "perc = (len(df[df.deviceType == 'mobile']) / len(df)) * 100"
   ]
  },
  {
   "cell_type": "code",
   "execution_count": 10,
   "metadata": {},
   "outputs": [
    {
     "data": {
      "text/plain": [
       "41.52242235082472"
      ]
     },
     "execution_count": 10,
     "metadata": {},
     "output_type": "execute_result"
    }
   ],
   "source": [
    "perc"
   ]
  },
  {
   "cell_type": "markdown",
   "metadata": {},
   "source": [
    "# 3. What search query had the highest click-through rate?\n"
   ]
  },
  {
   "cell_type": "code",
   "execution_count": 11,
   "metadata": {},
   "outputs": [],
   "source": [
    "df_product = df[df.eventType=='product']\n",
    "df_search = df[df.eventType=='search']\n",
    "df_search = df_search[pd.notnull(df_search.searchItems)]"
   ]
  },
  {
   "cell_type": "code",
   "execution_count": 12,
   "metadata": {},
   "outputs": [],
   "source": [
    "visitors_list = df_product.visitor.tolist()\n",
    "in_visitors_list = df_search.visitor.isin(visitors_list)\n",
    "df_search = df_search[in_visitors_list]"
   ]
  },
  {
   "cell_type": "code",
   "execution_count": 13,
   "metadata": {},
   "outputs": [],
   "source": [
    "visitors_list = df_search.visitor.tolist()\n",
    "in_visitors_list = df_product.visitor.isin(visitors_list)\n",
    "df_product = df_product[in_visitors_list]"
   ]
  },
  {
   "cell_type": "code",
   "execution_count": 14,
   "metadata": {},
   "outputs": [],
   "source": [
    "has_min_instances = []\n",
    "search_items = df_search.searchItems\n",
    "for items in search_items:\n",
    "    if len(items) < 15:\n",
    "        has_min_instances.append(False)\n",
    "    else:\n",
    "        has_min_instances.append(True)\n",
    "df_search = df_search[has_min_instances]"
   ]
  },
  {
   "cell_type": "code",
   "execution_count": 15,
   "metadata": {},
   "outputs": [],
   "source": [
    "is_in_product_page = []\n",
    "search_items = df_search['searchItems']\n",
    "products = df_product['product']\n",
    "for items in search_items:\n",
    "    x = False\n",
    "    for item in items:\n",
    "        if item in products.unique():\n",
    "            x = True\n",
    "    is_in_product_page.append(x)\n",
    "    \n",
    "df_search = df_search[is_in_product_page]"
   ]
  },
  {
   "cell_type": "code",
   "execution_count": 16,
   "metadata": {},
   "outputs": [],
   "source": [
    "clicks = []\n",
    "for j,vl in df_search.visitor.items():\n",
    "    click = 0\n",
    "    prods = df_search.loc[j, 'searchItems']\n",
    "    for i,v in df_product.visitor.items():\n",
    "        if v==vl:\n",
    "            produ = df_product.loc[i, 'product']\n",
    "            for prod in prods:\n",
    "                if produ == prod:\n",
    "                    click += 1\n",
    "    clicks.append(click)\n",
    "df_search['clicks'] = clicks"
   ]
  },
  {
   "cell_type": "code",
   "execution_count": 17,
   "metadata": {},
   "outputs": [],
   "source": [
    "query_clicks = df_search.groupby('query').clicks.sum().sort_values(ascending=False)\n",
    "query_clicks = pd.DataFrame(query_clicks)\n",
    "query_clicks = query_clicks[query_clicks.clicks > 250]"
   ]
  },
  {
   "cell_type": "code",
   "execution_count": 18,
   "metadata": {},
   "outputs": [
    {
     "data": {
      "text/plain": [
       "<matplotlib.axes._subplots.AxesSubplot at 0x7fb365bd3ef0>"
      ]
     },
     "execution_count": 18,
     "metadata": {},
     "output_type": "execute_result"
    },
    {
     "data": {
      "image/png": "[encoded data removed]",
      "text/plain": [
       "<Figure size 720x360 with 1 Axes>"
      ]
     },
     "metadata": {},
     "output_type": "display_data"
    }
   ],
   "source": [
    "query_clicks.plot(kind='bar', figsize=(10,5))"
   ]
  },
  {
   "cell_type": "markdown",
   "metadata": {},
   "source": [
    "# 4. When is the site most busy?"
   ]
  },
  {
   "cell_type": "markdown",
   "metadata": {},
   "source": [
    "The site is most busy between 11 a.m. and 10 p.m at the beginning of the week."
   ]
  },
  {
   "cell_type": "code",
   "execution_count": 19,
   "metadata": {},
   "outputs": [],
   "source": [
    "time = df.date.apply(lambda x: x.time())"
   ]
  },
  {
   "cell_type": "code",
   "execution_count": 20,
   "metadata": {
    "scrolled": true
   },
   "outputs": [
    {
     "data": {
      "text/plain": [
       "<matplotlib.axes._subplots.AxesSubplot at 0x7fb365b73d68>"
      ]
     },
     "execution_count": 20,
     "metadata": {},
     "output_type": "execute_result"
    },
    {
     "data": {
      "image/png": "[encoded data removed]",
      "text/plain": [
       "<Figure size 432x288 with 1 Axes>"
      ]
     },
     "metadata": {},
     "output_type": "display_data"
    }
   ],
   "source": [
    "time.value_counts().plot()"
   ]
  },
  {
   "cell_type": "code",
   "execution_count": 21,
   "metadata": {},
   "outputs": [],
   "source": [
    "nu_weekday = df.date.apply(lambda x: x.weekday())"
   ]
  },
  {
   "cell_type": "code",
   "execution_count": 22,
   "metadata": {},
   "outputs": [],
   "source": [
    "weekdays = []\n",
    "for n in nu_weekday:\n",
    "    if n==0:\n",
    "        weekday = 'monday'\n",
    "    if n==1:\n",
    "        weekday = 'tuesday'\n",
    "    if n==2:\n",
    "        weekday = 'wednesday'\n",
    "    if n==3:\n",
    "        weekday = 'thursday'\n",
    "    if n==4:\n",
    "        weekday = 'friday'\n",
    "    if n==5:\n",
    "        weekday = 'saturday'\n",
    "    if n==6:\n",
    "        weekday = 'sunday'\n",
    "    weekdays.append(weekday)"
   ]
  },
  {
   "cell_type": "code",
   "execution_count": 23,
   "metadata": {},
   "outputs": [],
   "source": [
    "df['weekday'] = weekdays"
   ]
  },
  {
   "cell_type": "code",
   "execution_count": 24,
   "metadata": {},
   "outputs": [
    {
     "data": {
      "text/plain": [
       "<matplotlib.axes._subplots.AxesSubplot at 0x7fb365ad2358>"
      ]
     },
     "execution_count": 24,
     "metadata": {},
     "output_type": "execute_result"
    },
    {
     "data": {
      "image/png": "[encoded data removed]",
      "text/plain": [
       "<Figure size 432x288 with 1 Axes>"
      ]
     },
     "metadata": {},
     "output_type": "display_data"
    }
   ],
   "source": [
    "df.weekday.value_counts().plot(kind='bar')"
   ]
  },
  {
   "cell_type": "markdown",
   "metadata": {},
   "source": [
    "# 5. What is the share of revenue among categories brought by Campaign_2?"
   ]
  },
  {
   "cell_type": "code",
   "execution_count": 25,
   "metadata": {},
   "outputs": [],
   "source": [
    "df_product = df[df.eventType == 'product']\n",
    "df_product = df_product[df_product.utm_campaign == 'Campaign_2']\n",
    "df_transaction = df[df.eventType == 'transaction']\n"
   ]
  },
  {
   "cell_type": "code",
   "execution_count": 26,
   "metadata": {},
   "outputs": [
    {
     "data": {
      "text/plain": [
       "10514"
      ]
     },
     "execution_count": 26,
     "metadata": {},
     "output_type": "execute_result"
    }
   ],
   "source": [
    "len(df_product)"
   ]
  },
  {
   "cell_type": "code",
   "execution_count": 27,
   "metadata": {},
   "outputs": [
    {
     "data": {
      "text/plain": [
       "554"
      ]
     },
     "execution_count": 27,
     "metadata": {},
     "output_type": "execute_result"
    }
   ],
   "source": [
    "len(df_transaction)"
   ]
  },
  {
   "cell_type": "code",
   "execution_count": 28,
   "metadata": {},
   "outputs": [
    {
     "data": {
      "text/plain": [
       "113"
      ]
     },
     "execution_count": 28,
     "metadata": {},
     "output_type": "execute_result"
    }
   ],
   "source": [
    "visitors_list = df_product.visitor.tolist()\n",
    "in_visitors_list = df_transaction.visitor.isin(visitors_list)\n",
    "df_transaction = df_transaction[in_visitors_list]\n",
    "len(df_transaction)"
   ]
  },
  {
   "cell_type": "code",
   "execution_count": 29,
   "metadata": {},
   "outputs": [
    {
     "data": {
      "text/plain": [
       "224"
      ]
     },
     "execution_count": 29,
     "metadata": {},
     "output_type": "execute_result"
    }
   ],
   "source": [
    "visitors_list = df_transaction.visitor.tolist()\n",
    "in_visitors_list = df_product.visitor.isin(visitors_list)\n",
    "df_product = df_product[in_visitors_list]\n",
    "len(df_product)"
   ]
  },
  {
   "cell_type": "code",
   "execution_count": 30,
   "metadata": {},
   "outputs": [
    {
     "data": {
      "text/plain": [
       "187"
      ]
     },
     "execution_count": 30,
     "metadata": {},
     "output_type": "execute_result"
    }
   ],
   "source": [
    "df_items = []\n",
    "items = df_transaction.orderItems\n",
    "for item in items:\n",
    "    for i in item:\n",
    "        df_items.append(i)\n",
    "df_items = pd.DataFrame(df_items)\n",
    "len(df_items)"
   ]
  },
  {
   "cell_type": "code",
   "execution_count": 31,
   "metadata": {},
   "outputs": [
    {
     "data": {
      "text/plain": [
       "82"
      ]
     },
     "execution_count": 31,
     "metadata": {},
     "output_type": "execute_result"
    }
   ],
   "source": [
    "products_list = df_product['product'].tolist()\n",
    "in_products_list = df_items['product'].isin(products_list)\n",
    "df_items = df_items[in_products_list]\n",
    "len(df_items)"
   ]
  },
  {
   "cell_type": "code",
   "execution_count": null,
   "metadata": {},
   "outputs": [],
   "source": []
  },
  {
   "cell_type": "code",
   "execution_count": 32,
   "metadata": {},
   "outputs": [],
   "source": [
    "total = (df_items.price * df_items.quantity).tolist()"
   ]
  },
  {
   "cell_type": "code",
   "execution_count": 33,
   "metadata": {},
   "outputs": [],
   "source": [
    "df_items['total'] = total\n"
   ]
  },
  {
   "cell_type": "code",
   "execution_count": 34,
   "metadata": {
    "scrolled": true
   },
   "outputs": [],
   "source": [
    "categories = []\n",
    "for product in df_items['product']:\n",
    "    category = ''\n",
    "    for i,v in df_product['product'].items():\n",
    "        if product==v:\n",
    "            category = df_product.loc[i, 'category']\n",
    "            break\n",
    "    categories.append(category)"
   ]
  },
  {
   "cell_type": "code",
   "execution_count": 35,
   "metadata": {},
   "outputs": [],
   "source": [
    "df_items['category'] = categories"
   ]
  },
  {
   "cell_type": "code",
   "execution_count": 36,
   "metadata": {},
   "outputs": [],
   "source": [
    "categories = df_items.groupby(['category']).total.sum()"
   ]
  },
  {
   "cell_type": "code",
   "execution_count": 37,
   "metadata": {},
   "outputs": [],
   "source": [
    "categories = pd.DataFrame(categories)"
   ]
  },
  {
   "cell_type": "code",
   "execution_count": 38,
   "metadata": {},
   "outputs": [],
   "source": [
    "categories['perc'] = categories.total / categories.total.sum() * 100"
   ]
  },
  {
   "cell_type": "code",
   "execution_count": 39,
   "metadata": {},
   "outputs": [],
   "source": [
    "categories = categories.perc.sort_values(ascending=False)"
   ]
  },
  {
   "cell_type": "code",
   "execution_count": 40,
   "metadata": {},
   "outputs": [
    {
     "data": {
      "text/plain": [
       "category\n",
       "271|697        33.538351\n",
       "322|173|759    14.494617\n",
       "756|763|181    13.220530\n",
       "271|300         9.650986\n",
       "319|689|244     6.261367\n",
       "349|215|628     3.765483\n",
       "26|427          2.789246\n",
       "29|153          2.554544\n",
       "234|676|635     2.263427\n",
       "558|552         1.788927\n",
       "756|268|188     1.742703\n",
       "319|91          1.417311\n",
       "271|524         1.207177\n",
       "319             1.000440\n",
       "349|215         0.872989\n",
       "234|725         0.772897\n",
       "299|86          0.606015\n",
       "26|156|109      0.496277\n",
       "319|427|686     0.453146\n",
       "594|439|654     0.363366\n",
       "53|329|681      0.217777\n",
       "319|764|6       0.185080\n",
       "349|250|396     0.157115\n",
       "234|115         0.126177\n",
       "26|156|521      0.054050\n",
       "Name: perc, dtype: float64"
      ]
     },
     "execution_count": 40,
     "metadata": {},
     "output_type": "execute_result"
    }
   ],
   "source": [
    "categories"
   ]
  },
  {
   "cell_type": "code",
   "execution_count": 41,
   "metadata": {},
   "outputs": [
    {
     "data": {
      "text/plain": [
       "<matplotlib.axes._subplots.AxesSubplot at 0x7fb365ab8ac8>"
      ]
     },
     "execution_count": 41,
     "metadata": {},
     "output_type": "execute_result"
    },
    {
     "data": {
      "image/png": "[encoded data removed]",
      "text/plain": [
       "<Figure size 720x360 with 1 Axes>"
      ]
     },
     "metadata": {},
     "output_type": "display_data"
    }
   ],
   "source": [
    "categories.plot(kind='bar', figsize=(10,5))"
   ]
  },
  {
   "cell_type": "markdown",
   "metadata": {},
   "source": [
    "# 6. Estimate the impact of unavailable products"
   ]
  },
  {
   "cell_type": "markdown",
   "metadata": {},
   "source": [
    "Approximately 20% searches resulted in more than 30% of unavailable products\n",
    "\n",
    "\n",
    "Approximately 9,5% searches resulted in more than 60% of unavailable products"
   ]
  },
  {
   "cell_type": "code",
   "execution_count": 42,
   "metadata": {},
   "outputs": [],
   "source": [
    "df_product = df[df.eventType == 'product']\n",
    "df_product = df_product[df_product.status == 'UNAVAILABLE']"
   ]
  },
  {
   "cell_type": "code",
   "execution_count": 43,
   "metadata": {},
   "outputs": [],
   "source": [
    "df_search = df[df.eventType == 'search']\n",
    "df_search = df_search[pd.notnull(df_search.searchItems)]"
   ]
  },
  {
   "cell_type": "code",
   "execution_count": 44,
   "metadata": {},
   "outputs": [],
   "source": [
    "search_items = df_search.searchItems\n",
    "unavailable_products = df_product['product'].tolist()"
   ]
  },
  {
   "cell_type": "code",
   "execution_count": 45,
   "metadata": {},
   "outputs": [],
   "source": [
    "qtd_un = []\n",
    "qtd_products = []\n",
    "for items in search_items:\n",
    "    un = 0\n",
    "    for item in items:\n",
    "        if item in unavailable_products:\n",
    "            un += 1\n",
    "    qtd_products.append(len(items))\n",
    "    qtd_un.append(un)"
   ]
  },
  {
   "cell_type": "code",
   "execution_count": 46,
   "metadata": {},
   "outputs": [],
   "source": [
    "df_search['qtd_unavailables'] = qtd_un\n",
    "df_search['qtd_products'] = qtd_products\n",
    "df_search['perc_unavailables'] = df_search.qtd_unavailables / df_search.qtd_products * 100"
   ]
  },
  {
   "cell_type": "code",
   "execution_count": 47,
   "metadata": {},
   "outputs": [
    {
     "data": {
      "text/plain": [
       "19.868916130598375"
      ]
     },
     "execution_count": 47,
     "metadata": {},
     "output_type": "execute_result"
    }
   ],
   "source": [
    "len(df_search[df_search.perc_unavailables > 30]) / len(df_search) * 100"
   ]
  },
  {
   "cell_type": "code",
   "execution_count": 48,
   "metadata": {},
   "outputs": [
    {
     "data": {
      "text/plain": [
       "9.538258803946388"
      ]
     },
     "execution_count": 48,
     "metadata": {},
     "output_type": "execute_result"
    }
   ],
   "source": [
    "len(df_search[df_search.perc_unavailables > 60]) / len(df_search) * 100"
   ]
  },
  {
   "cell_type": "code",
   "execution_count": null,
   "metadata": {},
   "outputs": [],
   "source": []
  }
 ],
 "metadata": {
  "kernelspec": {
   "display_name": "Python 3",
   "language": "python",
   "name": "python3"
  },
  "language_info": {
   "codemirror_mode": {
    "name": "ipython",
    "version": 3
   },
   "file_extension": ".py",
   "mimetype": "text/x-python",
   "name": "python",
   "nbconvert_exporter": "python",
   "pygments_lexer": "ipython3",
   "version": "3.6.5"
  }
 },
 "nbformat": 4,
 "nbformat_minor": 2
}
